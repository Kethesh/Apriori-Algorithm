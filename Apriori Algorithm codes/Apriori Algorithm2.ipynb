{
 "cells": [
  {
   "cell_type": "code",
   "execution_count": 1,
   "id": "3d0d3748",
   "metadata": {},
   "outputs": [],
   "source": [
    "import pandas as pd\n",
    "from mlxtend.preprocessing import TransactionEncoder\n",
    "from mlxtend.frequent_patterns import apriori, association_rules"
   ]
  },
  {
   "cell_type": "code",
   "execution_count": 2,
   "id": "824342ab",
   "metadata": {},
   "outputs": [],
   "source": [
    "file_path = \"GroceryStoreDataSet.csv\"  # Replace with your file path\n",
    "df = pd.read_csv(file_path, names=['products'], header=None)\n"
   ]
  },
  {
   "cell_type": "code",
   "execution_count": 3,
   "id": "dc0d30a1",
   "metadata": {},
   "outputs": [
    {
     "data": {
      "text/html": [
       "<div>\n",
       "<style scoped>\n",
       "    .dataframe tbody tr th:only-of-type {\n",
       "        vertical-align: middle;\n",
       "    }\n",
       "\n",
       "    .dataframe tbody tr th {\n",
       "        vertical-align: top;\n",
       "    }\n",
       "\n",
       "    .dataframe thead th {\n",
       "        text-align: right;\n",
       "    }\n",
       "</style>\n",
       "<table border=\"1\" class=\"dataframe\">\n",
       "  <thead>\n",
       "    <tr style=\"text-align: right;\">\n",
       "      <th></th>\n",
       "      <th>products</th>\n",
       "    </tr>\n",
       "  </thead>\n",
       "  <tbody>\n",
       "    <tr>\n",
       "      <th>0</th>\n",
       "      <td>MILK,BREAD,BISCUIT</td>\n",
       "    </tr>\n",
       "    <tr>\n",
       "      <th>1</th>\n",
       "      <td>BREAD,MILK,BISCUIT,CORNFLAKES</td>\n",
       "    </tr>\n",
       "    <tr>\n",
       "      <th>2</th>\n",
       "      <td>BREAD,TEA,BOURNVITA</td>\n",
       "    </tr>\n",
       "    <tr>\n",
       "      <th>3</th>\n",
       "      <td>JAM,MAGGI,BREAD,MILK</td>\n",
       "    </tr>\n",
       "    <tr>\n",
       "      <th>4</th>\n",
       "      <td>MAGGI,TEA,BISCUIT</td>\n",
       "    </tr>\n",
       "    <tr>\n",
       "      <th>5</th>\n",
       "      <td>BREAD,TEA,BOURNVITA</td>\n",
       "    </tr>\n",
       "    <tr>\n",
       "      <th>6</th>\n",
       "      <td>MAGGI,TEA,CORNFLAKES</td>\n",
       "    </tr>\n",
       "    <tr>\n",
       "      <th>7</th>\n",
       "      <td>MAGGI,BREAD,TEA,BISCUIT</td>\n",
       "    </tr>\n",
       "    <tr>\n",
       "      <th>8</th>\n",
       "      <td>JAM,MAGGI,BREAD,TEA</td>\n",
       "    </tr>\n",
       "    <tr>\n",
       "      <th>9</th>\n",
       "      <td>BREAD,MILK</td>\n",
       "    </tr>\n",
       "    <tr>\n",
       "      <th>10</th>\n",
       "      <td>COFFEE,COCK,BISCUIT,CORNFLAKES</td>\n",
       "    </tr>\n",
       "    <tr>\n",
       "      <th>11</th>\n",
       "      <td>COFFEE,COCK,BISCUIT,CORNFLAKES</td>\n",
       "    </tr>\n",
       "    <tr>\n",
       "      <th>12</th>\n",
       "      <td>COFFEE,SUGER,BOURNVITA</td>\n",
       "    </tr>\n",
       "    <tr>\n",
       "      <th>13</th>\n",
       "      <td>BREAD,COFFEE,COCK</td>\n",
       "    </tr>\n",
       "    <tr>\n",
       "      <th>14</th>\n",
       "      <td>BREAD,SUGER,BISCUIT</td>\n",
       "    </tr>\n",
       "    <tr>\n",
       "      <th>15</th>\n",
       "      <td>COFFEE,SUGER,CORNFLAKES</td>\n",
       "    </tr>\n",
       "    <tr>\n",
       "      <th>16</th>\n",
       "      <td>BREAD,SUGER,BOURNVITA</td>\n",
       "    </tr>\n",
       "    <tr>\n",
       "      <th>17</th>\n",
       "      <td>BREAD,COFFEE,SUGER</td>\n",
       "    </tr>\n",
       "    <tr>\n",
       "      <th>18</th>\n",
       "      <td>BREAD,COFFEE,SUGER</td>\n",
       "    </tr>\n",
       "    <tr>\n",
       "      <th>19</th>\n",
       "      <td>TEA,MILK,COFFEE,CORNFLAKES</td>\n",
       "    </tr>\n",
       "  </tbody>\n",
       "</table>\n",
       "</div>"
      ],
      "text/plain": [
       "                          products\n",
       "0               MILK,BREAD,BISCUIT\n",
       "1    BREAD,MILK,BISCUIT,CORNFLAKES\n",
       "2              BREAD,TEA,BOURNVITA\n",
       "3             JAM,MAGGI,BREAD,MILK\n",
       "4                MAGGI,TEA,BISCUIT\n",
       "5              BREAD,TEA,BOURNVITA\n",
       "6             MAGGI,TEA,CORNFLAKES\n",
       "7          MAGGI,BREAD,TEA,BISCUIT\n",
       "8              JAM,MAGGI,BREAD,TEA\n",
       "9                       BREAD,MILK\n",
       "10  COFFEE,COCK,BISCUIT,CORNFLAKES\n",
       "11  COFFEE,COCK,BISCUIT,CORNFLAKES\n",
       "12          COFFEE,SUGER,BOURNVITA\n",
       "13               BREAD,COFFEE,COCK\n",
       "14             BREAD,SUGER,BISCUIT\n",
       "15         COFFEE,SUGER,CORNFLAKES\n",
       "16           BREAD,SUGER,BOURNVITA\n",
       "17              BREAD,COFFEE,SUGER\n",
       "18              BREAD,COFFEE,SUGER\n",
       "19      TEA,MILK,COFFEE,CORNFLAKES"
      ]
     },
     "execution_count": 3,
     "metadata": {},
     "output_type": "execute_result"
    }
   ],
   "source": [
    "df"
   ]
  },
  {
   "cell_type": "code",
   "execution_count": 4,
   "id": "2c1d7524",
   "metadata": {
    "scrolled": false
   },
   "outputs": [],
   "source": [
    "data = list(df[\"products\"].apply(lambda x: x.split(',')))"
   ]
  },
  {
   "cell_type": "code",
   "execution_count": 5,
   "id": "af8004ad",
   "metadata": {},
   "outputs": [],
   "source": [
    "te = TransactionEncoder()\n",
    "te_data = te.fit(data).transform(data)\n",
    "df_encoded = pd.DataFrame(te_data, columns=te.columns_).astype(int)"
   ]
  },
  {
   "cell_type": "code",
   "execution_count": 6,
   "id": "75c18111",
   "metadata": {},
   "outputs": [
    {
     "name": "stderr",
     "output_type": "stream",
     "text": [
      "C:\\Users\\kethe\\AppData\\Roaming\\Python\\Python311\\site-packages\\mlxtend\\frequent_patterns\\fpcommon.py:109: DeprecationWarning: DataFrames with non-bool types result in worse computationalperformance and their support might be discontinued in the future.Please use a DataFrame with bool type\n",
      "  warnings.warn(\n"
     ]
    }
   ],
   "source": [
    "frequent_itemsets = apriori(df_encoded, min_support=0.01, use_colnames=True)"
   ]
  },
  {
   "cell_type": "code",
   "execution_count": 7,
   "id": "e9de5d2b",
   "metadata": {},
   "outputs": [],
   "source": [
    "rules = association_rules(frequent_itemsets, metric=\"confidence\", min_threshold=0.005)\n",
    "\n"
   ]
  },
  {
   "cell_type": "code",
   "execution_count": 8,
   "id": "1b23eea1",
   "metadata": {},
   "outputs": [
    {
     "name": "stdout",
     "output_type": "stream",
     "text": [
      "Frequent Itemsets:\n",
      "    support                             itemsets\n",
      "0      0.35                            (BISCUIT)\n",
      "1      0.20                          (BOURNVITA)\n",
      "2      0.65                              (BREAD)\n",
      "3      0.15                               (COCK)\n",
      "4      0.40                             (COFFEE)\n",
      "..      ...                                  ...\n",
      "78     0.05         (MAGGI, TEA, BREAD, BISCUIT)\n",
      "79     0.10  (COFFEE, CORNFLAKES, COCK, BISCUIT)\n",
      "80     0.05            (JAM, BREAD, MAGGI, MILK)\n",
      "81     0.05             (JAM, TEA, BREAD, MAGGI)\n",
      "82     0.05      (COFFEE, CORNFLAKES, TEA, MILK)\n",
      "\n",
      "[83 rows x 2 columns]\n"
     ]
    }
   ],
   "source": [
    "print(\"Frequent Itemsets:\")\n",
    "print(frequent_itemsets)"
   ]
  },
  {
   "cell_type": "code",
   "execution_count": 9,
   "id": "50de73e7",
   "metadata": {},
   "outputs": [
    {
     "name": "stdout",
     "output_type": "stream",
     "text": [
      "\n",
      "Association Rules:\n",
      "      antecedents                 consequents  antecedent support  \\\n",
      "0         (BREAD)                   (BISCUIT)                0.65   \n",
      "1       (BISCUIT)                     (BREAD)                0.35   \n",
      "2          (COCK)                   (BISCUIT)                0.15   \n",
      "3       (BISCUIT)                      (COCK)                0.35   \n",
      "4        (COFFEE)                   (BISCUIT)                0.40   \n",
      "..            ...                         ...                 ...   \n",
      "331   (TEA, MILK)        (COFFEE, CORNFLAKES)                0.05   \n",
      "332      (COFFEE)     (CORNFLAKES, TEA, MILK)                0.40   \n",
      "333  (CORNFLAKES)         (COFFEE, TEA, MILK)                0.30   \n",
      "334         (TEA)  (COFFEE, CORNFLAKES, MILK)                0.35   \n",
      "335        (MILK)   (COFFEE, CORNFLAKES, TEA)                0.25   \n",
      "\n",
      "     consequent support  support  confidence      lift  leverage  conviction  \\\n",
      "0                  0.35     0.20    0.307692  0.879121   -0.0275    0.938889   \n",
      "1                  0.65     0.20    0.571429  0.879121   -0.0275    0.816667   \n",
      "2                  0.35     0.10    0.666667  1.904762    0.0475    1.950000   \n",
      "3                  0.15     0.10    0.285714  1.904762    0.0475    1.190000   \n",
      "4                  0.35     0.10    0.250000  0.714286   -0.0400    0.866667   \n",
      "..                  ...      ...         ...       ...       ...         ...   \n",
      "331                0.20     0.05    1.000000  5.000000    0.0400         inf   \n",
      "332                0.05     0.05    0.125000  2.500000    0.0300    1.085714   \n",
      "333                0.05     0.05    0.166667  3.333333    0.0350    1.140000   \n",
      "334                0.05     0.05    0.142857  2.857143    0.0325    1.108333   \n",
      "335                0.05     0.05    0.200000  4.000000    0.0375    1.187500   \n",
      "\n",
      "     zhangs_metric  \n",
      "0        -0.282051  \n",
      "1        -0.174603  \n",
      "2         0.558824  \n",
      "3         0.730769  \n",
      "4        -0.400000  \n",
      "..             ...  \n",
      "331       0.842105  \n",
      "332       1.000000  \n",
      "333       1.000000  \n",
      "334       1.000000  \n",
      "335       1.000000  \n",
      "\n",
      "[336 rows x 10 columns]\n"
     ]
    }
   ],
   "source": [
    "print(\"\\nAssociation Rules:\")\n",
    "print(rules)"
   ]
  },
  {
   "cell_type": "code",
   "execution_count": 10,
   "id": "14f88f6b",
   "metadata": {},
   "outputs": [],
   "source": [
    "# Optionally, save the results to CSV files\n",
    "frequent_itemsets.to_csv(\"frequent_itemsets.csv\", index=False)\n",
    "rules.to_csv(\"association_rules.csv\", index=False)"
   ]
  },
  {
   "cell_type": "code",
   "execution_count": 11,
   "id": "885c3486",
   "metadata": {},
   "outputs": [
    {
     "data": {
      "text/plain": [
       "(      antecedents                 consequents  antecedent support  \\\n",
       " 0         (BREAD)                   (BISCUIT)                0.65   \n",
       " 1       (BISCUIT)                     (BREAD)                0.35   \n",
       " 2          (COCK)                   (BISCUIT)                0.15   \n",
       " 3       (BISCUIT)                      (COCK)                0.35   \n",
       " 4        (COFFEE)                   (BISCUIT)                0.40   \n",
       " ..            ...                         ...                 ...   \n",
       " 331   (TEA, MILK)        (COFFEE, CORNFLAKES)                0.05   \n",
       " 332      (COFFEE)     (CORNFLAKES, TEA, MILK)                0.40   \n",
       " 333  (CORNFLAKES)         (COFFEE, TEA, MILK)                0.30   \n",
       " 334         (TEA)  (COFFEE, CORNFLAKES, MILK)                0.35   \n",
       " 335        (MILK)   (COFFEE, CORNFLAKES, TEA)                0.25   \n",
       " \n",
       "      consequent support  support  confidence      lift  leverage  conviction  \\\n",
       " 0                  0.35     0.20    0.307692  0.879121   -0.0275    0.938889   \n",
       " 1                  0.65     0.20    0.571429  0.879121   -0.0275    0.816667   \n",
       " 2                  0.35     0.10    0.666667  1.904762    0.0475    1.950000   \n",
       " 3                  0.15     0.10    0.285714  1.904762    0.0475    1.190000   \n",
       " 4                  0.35     0.10    0.250000  0.714286   -0.0400    0.866667   \n",
       " ..                  ...      ...         ...       ...       ...         ...   \n",
       " 331                0.20     0.05    1.000000  5.000000    0.0400         inf   \n",
       " 332                0.05     0.05    0.125000  2.500000    0.0300    1.085714   \n",
       " 333                0.05     0.05    0.166667  3.333333    0.0350    1.140000   \n",
       " 334                0.05     0.05    0.142857  2.857143    0.0325    1.108333   \n",
       " 335                0.05     0.05    0.200000  4.000000    0.0375    1.187500   \n",
       " \n",
       "      zhangs_metric  \n",
       " 0        -0.282051  \n",
       " 1        -0.174603  \n",
       " 2         0.558824  \n",
       " 3         0.730769  \n",
       " 4        -0.400000  \n",
       " ..             ...  \n",
       " 331       0.842105  \n",
       " 332       1.000000  \n",
       " 333       1.000000  \n",
       " 334       1.000000  \n",
       " 335       1.000000  \n",
       " \n",
       " [336 rows x 10 columns],\n",
       "     support                             itemsets\n",
       " 0      0.35                            (BISCUIT)\n",
       " 1      0.20                          (BOURNVITA)\n",
       " 2      0.65                              (BREAD)\n",
       " 3      0.15                               (COCK)\n",
       " 4      0.40                             (COFFEE)\n",
       " ..      ...                                  ...\n",
       " 78     0.05         (MAGGI, TEA, BREAD, BISCUIT)\n",
       " 79     0.10  (COFFEE, CORNFLAKES, COCK, BISCUIT)\n",
       " 80     0.05            (JAM, BREAD, MAGGI, MILK)\n",
       " 81     0.05             (JAM, TEA, BREAD, MAGGI)\n",
       " 82     0.05      (COFFEE, CORNFLAKES, TEA, MILK)\n",
       " \n",
       " [83 rows x 2 columns])"
      ]
     },
     "execution_count": 11,
     "metadata": {},
     "output_type": "execute_result"
    }
   ],
   "source": [
    "rules,frequent_itemsets"
   ]
  },
  {
   "cell_type": "code",
   "execution_count": null,
   "id": "a8b4a60c",
   "metadata": {},
   "outputs": [],
   "source": []
  }
 ],
 "metadata": {
  "kernelspec": {
   "display_name": "Python 3 (ipykernel)",
   "language": "python",
   "name": "python3"
  },
  "language_info": {
   "codemirror_mode": {
    "name": "ipython",
    "version": 3
   },
   "file_extension": ".py",
   "mimetype": "text/x-python",
   "name": "python",
   "nbconvert_exporter": "python",
   "pygments_lexer": "ipython3",
   "version": "3.11.5"
  }
 },
 "nbformat": 4,
 "nbformat_minor": 5
}
